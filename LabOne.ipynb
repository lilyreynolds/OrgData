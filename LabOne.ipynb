{
  "nbformat": 4,
  "nbformat_minor": 0,
  "metadata": {
    "colab": {
      "name": "LabOne.ipynb",
      "provenance": [],
      "authorship_tag": "ABX9TyPBYiQ8vSa1j6/fgzeyax/D",
      "include_colab_link": true
    },
    "kernelspec": {
      "name": "python3",
      "display_name": "Python 3"
    }
  },
  "cells": [
    {
      "cell_type": "markdown",
      "metadata": {
        "id": "view-in-github",
        "colab_type": "text"
      },
      "source": [
        "<a href=\"https://colab.research.google.com/github/lilyreynolds/OrgData/blob/master/LabOne.ipynb\" target=\"_parent\"><img src=\"https://colab.research.google.com/assets/colab-badge.svg\" alt=\"Open In Colab\"/></a>"
      ]
    },
    {
      "cell_type": "markdown",
      "metadata": {
        "id": "EaojKyLes5bI",
        "colab_type": "text"
      },
      "source": [
        "## Do you like using Juptyer Notebooks?\n"
      ]
    },
    {
      "cell_type": "markdown",
      "metadata": {
        "id": "H8ka274Xs_j5",
        "colab_type": "text"
      },
      "source": [
        "I like Jupyter Notebooks so far. It seems like a cool way to share databases.\n"
      ]
    },
    {
      "cell_type": "markdown",
      "metadata": {
        "id": "QzvkmfWftNnx",
        "colab_type": "text"
      },
      "source": [
        "## What do you want to learn more about in Juptyer Notebooks?\n"
      ]
    },
    {
      "cell_type": "markdown",
      "metadata": {
        "id": "EAt2df3XtXOf",
        "colab_type": "text"
      },
      "source": [
        "I am very familiar with the Python language so I would like to learn how to use it to share Python code with others. I think it would also be interesting to learn how to use SQL with it as well."
      ]
    },
    {
      "cell_type": "markdown",
      "metadata": {
        "id": "Ds-FGe8-usRS",
        "colab_type": "text"
      },
      "source": [
        "![This is my dog](https://raw.githubusercontent.com/lilyreynolds/OrgData/master/MyDog.JPG)"
      ]
    }
  ]
}