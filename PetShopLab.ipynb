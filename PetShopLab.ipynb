{
  "nbformat": 4,
  "nbformat_minor": 0,
  "metadata": {
    "colab": {
      "name": "PetShopLab.ipynb",
      "provenance": [],
      "collapsed_sections": [],
      "authorship_tag": "ABX9TyOcQvAymU6fAR6TGL94TG2x",
      "include_colab_link": true
    },
    "kernelspec": {
      "name": "python3",
      "display_name": "Python 3"
    }
  },
  "cells": [
    {
      "cell_type": "markdown",
      "metadata": {
        "id": "view-in-github",
        "colab_type": "text"
      },
      "source": [
        "<a href=\"https://colab.research.google.com/github/lilyreynolds/OrgData/blob/master/PetShopLab.ipynb\" target=\"_parent\"><img src=\"https://colab.research.google.com/assets/colab-badge.svg\" alt=\"Open In Colab\"/></a>"
      ]
    },
    {
      "cell_type": "markdown",
      "metadata": {
        "id": "HZMObWH4PTOR"
      },
      "source": [
        "My pet shop allows customers to adopt pets, buy food, buy enclosures for their pets, etc. Every customer that makes a purchase automatically is entered into a loyalty program where they can get different types of coupons depending on how much money they spend. Each purchase is worth 5 points, and once the customer reaches 30 points they get a new coupon. Also, every employee that works at the shop, no matter what their position is, needs to care for at least one pet. They take care of them by walking them and feeding them. Each employee does not have to feed each pet the same kind of food; they can eat foods with different consistencies. Although, they cannot eat food types meant for an animal they are not (a dog cannot eat cat food). The employees also have to make sure the pets are in the right enclosures by matching the pet ID with the enclosure ID. \n"
      ]
    },
    {
      "cell_type": "markdown",
      "metadata": {
        "id": "K--XSg4cVL_A"
      },
      "source": [
        "![This is my ER diagram](https://raw.githubusercontent.com/lilyreynolds/OrgData/master/PetShopFinal.png)"
      ]
    }
  ]
}