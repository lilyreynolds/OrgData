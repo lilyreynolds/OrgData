{
  "nbformat": 4,
  "nbformat_minor": 0,
  "metadata": {
    "colab": {
      "name": "Group Assignment 1 IST 210",
      "provenance": [],
      "include_colab_link": true
    },
    "kernelspec": {
      "name": "python3",
      "display_name": "Python 3"
    }
  },
  "cells": [
    {
      "cell_type": "markdown",
      "metadata": {
        "id": "view-in-github",
        "colab_type": "text"
      },
      "source": [
        "<a href=\"https://colab.research.google.com/github/lilyreynolds/OrgData/blob/master/GroupAssignment1Final.ipynb\" target=\"_parent\"><img src=\"https://colab.research.google.com/assets/colab-badge.svg\" alt=\"Open In Colab\"/></a>"
      ]
    },
    {
      "cell_type": "markdown",
      "metadata": {
        "id": "UblhAIGuGF27",
        "colab_type": "text"
      },
      "source": [
        "Group Assignment 1"
      ]
    },
    {
      "cell_type": "markdown",
      "metadata": {
        "id": "RlR0_Ol4GW3b",
        "colab_type": "text"
      },
      "source": [
        "### what is your idea?"
      ]
    },
    {
      "cell_type": "markdown",
      "metadata": {
        "id": "HU68Zv5MGY97",
        "colab_type": "text"
      },
      "source": [
        "-- Our idea is a restaurant with a sports bar. This would include employees, TVs, a bar, and food."
      ]
    },
    {
      "cell_type": "markdown",
      "metadata": {
        "id": "45Q0PBrIGiIg",
        "colab_type": "text"
      },
      "source": [
        "### what makes it unique?"
      ]
    },
    {
      "cell_type": "markdown",
      "metadata": {
        "id": "8WOfTAuqGjoc",
        "colab_type": "text"
      },
      "source": [
        "-- Our idea is unique because we sell all different kinds of ethnic foods and alcohol. We appeal to all different ethnic backgrounds."
      ]
    },
    {
      "cell_type": "markdown",
      "metadata": {
        "id": "dVrktWdXGl19",
        "colab_type": "text"
      },
      "source": [
        "### is this a brand-new product or business, or are you borrowing from another business?"
      ]
    },
    {
      "cell_type": "markdown",
      "metadata": {
        "id": "MmGY0leUGnaN",
        "colab_type": "text"
      },
      "source": [
        "-- We modeled our business off of basic sports bars. However, we wanted to include our own personal spin on all ethnic foods."
      ]
    },
    {
      "cell_type": "markdown",
      "metadata": {
        "id": "k3oJzVDPGnws",
        "colab_type": "text"
      },
      "source": [
        "### describe a typical business interaction or a day at your business."
      ]
    },
    {
      "cell_type": "markdown",
      "metadata": {
        "id": "GeEKl-lUG1x5",
        "colab_type": "text"
      },
      "source": [
        "-- A typical day at our business would consist of customers coming in and deciding what part of the restauraunt they want to sit at. If they want to go to the bar, they must show ID. Customers have the option to sit at booths, regular dining tables, or high tops at the bar. There are always sports games on to entertain the customers while they eat. \n",
        "\n"
      ]
    },
    {
      "cell_type": "markdown",
      "metadata": {
        "id": "iUFoC5BuGpID",
        "colab_type": "text"
      },
      "source": [
        "### list your 5 entities/tables and for each, provide details about what data will be stored in the entities/tables."
      ]
    },
    {
      "cell_type": "markdown",
      "metadata": {
        "id": "AiZXrfSMGqZm",
        "colab_type": "text"
      },
      "source": [
        "1. Employees\n",
        "\n",
        "-- This entity will include data about the bouncers, chefs, waiters, and bussers.\n",
        "\n",
        "2. Furniture \n",
        "\n",
        "-- This entity will include data about the booths, dining tables, and bar stools. \n",
        "\n",
        "3. Food\n",
        "\n",
        "-- This entity will include data about the different kinds of foods we have such as American, Italian, Mexican, and Asian.\n",
        "\n",
        "4. Alcohol\n",
        "\n",
        "-- This entity will include data abaout the different kinds of alcohol we provide at the bar: types of wine, beer, and liquor.\n",
        "\n",
        "5. Inventory \n",
        "\n",
        "-- This entity will include data about the kinds of silverware, cash registers, glasses, plates, etc."
      ]
    },
    {
      "cell_type": "markdown",
      "metadata": {
        "id": "h2mJWTewHLSn",
        "colab_type": "text"
      },
      "source": [
        "Draw IO Entity Relationship Diagram \n",
        "\n",
        "![This is our Draw.io Entity Relationship Diagram](https://raw.githubusercontent.com/lilyreynolds/OrgData/master/1stGroupAssignment.png)\n"
      ]
    },
    {
      "cell_type": "markdown",
      "metadata": {
        "id": "WFQXwieoHiCe",
        "colab_type": "text"
      },
      "source": [
        "### provide a goal for your project "
      ]
    },
    {
      "cell_type": "markdown",
      "metadata": {
        "id": "cKmoiVHrHnHF",
        "colab_type": "text"
      },
      "source": [
        "-- Our goal is to create a database about our restaurant/bar that stores information about the aforemenioned entities. We plan on appealing to all different ethnic backgrounds with our variety of foods and drinks."
      ]
    }
  ]
}