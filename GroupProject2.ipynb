{
  "nbformat": 4,
  "nbformat_minor": 0,
  "metadata": {
    "colab": {
      "name": "GroupProject2.ipynb",
      "provenance": [],
      "collapsed_sections": [],
      "include_colab_link": true
    },
    "kernelspec": {
      "name": "python3",
      "display_name": "Python 3"
    }
  },
  "cells": [
    {
      "cell_type": "markdown",
      "metadata": {
        "id": "view-in-github",
        "colab_type": "text"
      },
      "source": [
        "<a href=\"https://colab.research.google.com/github/lilyreynolds/OrgData/blob/master/GroupProject2.ipynb\" target=\"_parent\"><img src=\"https://colab.research.google.com/assets/colab-badge.svg\" alt=\"Open In Colab\"/></a>"
      ]
    },
    {
      "cell_type": "markdown",
      "metadata": {
        "id": "bTGKdBNB_trL"
      },
      "source": [
        "Our diagram represents a typical dine-in restaurant. The five tables we will be using to collect data are entrees, customers, waiters, alcohol, and tables. The attributes in the entrees table are price, calories, and ethnicity of the entree. This table is connected to the customers table since one entree will be eaten by anywhere from zero to twenty customer in a night and customers can eat zero to one entrees. The customers table has the attributes FirstName, LastName, PaymentType(cash, card, or check). The customers table has the foreign keys entree, alcohol, and waiters. The waiters table is connected to the customers table because customers are served by one waiter and waiters can serve anywhere from zero to fifty customers in one night. Waiters have the attributes wage, hours, FirtsName, LastName, and TablesTheyServe with the primary key WaitersIDNumber. The Waiters table is also connected to the Tables table since one table is served by one waiter and one waiter can serve zero to five tables in a given night. Attributes of the Tables table are chairs, boothes, and tables which all have their own ID to account for the different types of seating at our restaurant. Our last table is alcohol which has the attributes TypeOfAlcohol(wine, beer, liquor), Price, Calories, and Brand. This table is connected to the customers table because alcohol may or may not be ordered by a customer and that customer may have zero to five drinks with their meal. By collecting data using these tables we can analyze things like most popular entrees, most popular drinks, seating preference, returning customers, and quickly calculate salary for our waiters."
      ]
    },
    {
      "cell_type": "markdown",
      "metadata": {
        "id": "PSUsCk5h_1M_"
      },
      "source": [
        "![Diagram](https://raw.githubusercontent.com/lilyreynolds/OrgData/master/GroupProject2.png)"
      ]
    }
  ]
}