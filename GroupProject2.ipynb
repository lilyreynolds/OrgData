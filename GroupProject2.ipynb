{
  "nbformat": 4,
  "nbformat_minor": 0,
  "metadata": {
    "colab": {
      "name": "GroupProject2.ipynb",
      "provenance": [],
      "collapsed_sections": [],
      "include_colab_link": true
    },
    "kernelspec": {
      "name": "python3",
      "display_name": "Python 3"
    }
  },
  "cells": [
    {
      "cell_type": "markdown",
      "metadata": {
        "id": "view-in-github",
        "colab_type": "text"
      },
      "source": [
        "<a href=\"https://colab.research.google.com/github/lilyreynolds/OrgData/blob/master/GroupProject2.ipynb\" target=\"_parent\"><img src=\"https://colab.research.google.com/assets/colab-badge.svg\" alt=\"Open In Colab\"/></a>"
      ]
    },
    {
      "cell_type": "markdown",
      "metadata": {
        "id": "PSUsCk5h_1M_"
      },
      "source": [
        "![Diagram](https://raw.githubusercontent.com/lilyreynolds/OrgData/master/GroupProject2.png)"
      ]
    },
    {
      "cell_type": "code",
      "metadata": {
        "id": "O0SsnJAX2Dyr"
      },
      "source": [
        "%load_ext sql"
      ],
      "execution_count": null,
      "outputs": []
    },
    {
      "cell_type": "code",
      "metadata": {
        "id": "M2A52E5MavpL",
        "colab": {
          "base_uri": "https://localhost:8080/",
          "height": 36
        },
        "outputId": "c4cd90d4-1466-4f6a-89f2-10fc0cc4c3ea"
      },
      "source": [
        "%sql sqlite:///restaurantDatabase.db"
      ],
      "execution_count": null,
      "outputs": [
        {
          "output_type": "execute_result",
          "data": {
            "application/vnd.google.colaboratory.intrinsic+json": {
              "type": "string"
            },
            "text/plain": [
              "'Connected: @restaurantDatabase.db'"
            ]
          },
          "metadata": {
            "tags": []
          },
          "execution_count": 3
        }
      ]
    },
    {
      "cell_type": "code",
      "metadata": {
        "id": "3FEXtMJd23FU",
        "colab": {
          "base_uri": "https://localhost:8080/"
        },
        "outputId": "05cdf85c-8055-4319-b7e2-e99cba30f687"
      },
      "source": [
        "%%sql\n",
        "CREATE TABLE Entrees(Entree ID text primary key, Ethnicity text, Price real, Calories real)"
      ],
      "execution_count": null,
      "outputs": [
        {
          "output_type": "stream",
          "text": [
            " * sqlite:///restaurantDatabase.db\n",
            "Done.\n"
          ],
          "name": "stdout"
        },
        {
          "output_type": "execute_result",
          "data": {
            "text/plain": [
              "[]"
            ]
          },
          "metadata": {
            "tags": []
          },
          "execution_count": 4
        }
      ]
    },
    {
      "cell_type": "code",
      "metadata": {
        "id": "DU4tg6YS3yAh",
        "colab": {
          "base_uri": "https://localhost:8080/"
        },
        "outputId": "88414a20-3de4-4c7b-c82e-8891f16bcfe9"
      },
      "source": [
        "%%sql\n",
        "CREATE TABLE Customers(CustomerID text primary key, FirstName text, LastName text, PaymentType text, Entree text, Alcohol text, Waiter text)"
      ],
      "execution_count": null,
      "outputs": [
        {
          "output_type": "stream",
          "text": [
            " * sqlite:///restaurantDatabase.db\n",
            "Done.\n"
          ],
          "name": "stdout"
        },
        {
          "output_type": "execute_result",
          "data": {
            "text/plain": [
              "[]"
            ]
          },
          "metadata": {
            "tags": []
          },
          "execution_count": 5
        }
      ]
    },
    {
      "cell_type": "code",
      "metadata": {
        "id": "X_ipo6Fi3_hA",
        "colab": {
          "base_uri": "https://localhost:8080/"
        },
        "outputId": "e52446d5-994c-4579-f7c7-fa3fde4d48ae"
      },
      "source": [
        "%%sql\n",
        "CREATE TABLE Tables(TableID text primary key, Chairs real, Booths real, Location text)"
      ],
      "execution_count": null,
      "outputs": [
        {
          "output_type": "stream",
          "text": [
            " * sqlite:///restaurantDatabase.db\n",
            "Done.\n"
          ],
          "name": "stdout"
        },
        {
          "output_type": "execute_result",
          "data": {
            "text/plain": [
              "[]"
            ]
          },
          "metadata": {
            "tags": []
          },
          "execution_count": 6
        }
      ]
    },
    {
      "cell_type": "code",
      "metadata": {
        "id": "BvNIjt8C5v38",
        "colab": {
          "base_uri": "https://localhost:8080/"
        },
        "outputId": "37f8d694-3615-4f2b-8840-285d8474edc5"
      },
      "source": [
        "%%sql\n",
        "CREATE TABLE Alcohol(AlcoholID text primary key, TypeofAlcohol text, Price real, Calories real, Brand text)"
      ],
      "execution_count": null,
      "outputs": [
        {
          "output_type": "stream",
          "text": [
            " * sqlite:///restaurantDatabase.db\n",
            "Done.\n"
          ],
          "name": "stdout"
        },
        {
          "output_type": "execute_result",
          "data": {
            "text/plain": [
              "[]"
            ]
          },
          "metadata": {
            "tags": []
          },
          "execution_count": 7
        }
      ]
    },
    {
      "cell_type": "code",
      "metadata": {
        "id": "-1GZ_E9K6Qug",
        "colab": {
          "base_uri": "https://localhost:8080/"
        },
        "outputId": "b4cba2ae-a784-4f7c-9584-5f3e13c98026"
      },
      "source": [
        "%%sql\n",
        "CREATE TABLE Waiters(WaitersIDNumber text primary key, Wage real, Hours real, FirstName text, LastName text, TablesTheyServe text)"
      ],
      "execution_count": null,
      "outputs": [
        {
          "output_type": "stream",
          "text": [
            " * sqlite:///restaurantDatabase.db\n",
            "Done.\n"
          ],
          "name": "stdout"
        },
        {
          "output_type": "execute_result",
          "data": {
            "text/plain": [
              "[]"
            ]
          },
          "metadata": {
            "tags": []
          },
          "execution_count": 8
        }
      ]
    },
    {
      "cell_type": "code",
      "metadata": {
        "id": "gUSvg4KT7P7o",
        "colab": {
          "base_uri": "https://localhost:8080/"
        },
        "outputId": "a438425c-ccdc-4701-bc34-3407b7a4d42e"
      },
      "source": [
        "%%sql\n",
        "INSERT INTO Entrees VALUES('1234','Spanish',14.99,800)"
      ],
      "execution_count": null,
      "outputs": [
        {
          "output_type": "stream",
          "text": [
            " * sqlite:///restaurantDatabase.db\n",
            "1 rows affected.\n"
          ],
          "name": "stdout"
        },
        {
          "output_type": "execute_result",
          "data": {
            "text/plain": [
              "[]"
            ]
          },
          "metadata": {
            "tags": []
          },
          "execution_count": 9
        }
      ]
    },
    {
      "cell_type": "code",
      "metadata": {
        "id": "K2lCaJmh72eK",
        "colab": {
          "base_uri": "https://localhost:8080/"
        },
        "outputId": "e6dfea87-9b83-4b17-89f7-467e7f4040fc"
      },
      "source": [
        "%%sql\n",
        "INSERT INTO Customers VALUES('2798','John','Doe','Cash','1234','3874','285')"
      ],
      "execution_count": null,
      "outputs": [
        {
          "output_type": "stream",
          "text": [
            " * sqlite:///restaurantDatabase.db\n",
            "1 rows affected.\n"
          ],
          "name": "stdout"
        },
        {
          "output_type": "execute_result",
          "data": {
            "text/plain": [
              "[]"
            ]
          },
          "metadata": {
            "tags": []
          },
          "execution_count": 10
        }
      ]
    },
    {
      "cell_type": "code",
      "metadata": {
        "id": "T_eJfQMr8xqI",
        "colab": {
          "base_uri": "https://localhost:8080/"
        },
        "outputId": "afa44b9f-8c07-4e33-f3a2-30703f395575"
      },
      "source": [
        "%%sql\n",
        "INSERT INTO Tables VALUES('15',6,0,'Dining Room')"
      ],
      "execution_count": null,
      "outputs": [
        {
          "output_type": "stream",
          "text": [
            " * sqlite:///restaurantDatabase.db\n",
            "1 rows affected.\n"
          ],
          "name": "stdout"
        },
        {
          "output_type": "execute_result",
          "data": {
            "text/plain": [
              "[]"
            ]
          },
          "metadata": {
            "tags": []
          },
          "execution_count": 11
        }
      ]
    },
    {
      "cell_type": "code",
      "metadata": {
        "id": "6Pc7woKo9fiL",
        "colab": {
          "base_uri": "https://localhost:8080/"
        },
        "outputId": "887786e1-0558-4a29-e23d-34ee5e20cfe9"
      },
      "source": [
        "%%sql\n",
        "INSERT INTO Alcohol VALUES('117','Wine',8.99,120,'Barefoot')"
      ],
      "execution_count": null,
      "outputs": [
        {
          "output_type": "stream",
          "text": [
            " * sqlite:///restaurantDatabase.db\n",
            "1 rows affected.\n"
          ],
          "name": "stdout"
        },
        {
          "output_type": "execute_result",
          "data": {
            "text/plain": [
              "[]"
            ]
          },
          "metadata": {
            "tags": []
          },
          "execution_count": 12
        }
      ]
    },
    {
      "cell_type": "code",
      "metadata": {
        "id": "B1m1ZQ20-AxP",
        "colab": {
          "base_uri": "https://localhost:8080/"
        },
        "outputId": "50412541-9f1f-4d4e-913f-3b526645c6f9"
      },
      "source": [
        "%%sql\n",
        "INSERT INTO Waiters VALUES('42', 12.50, 7, 'Jimmy','Neutron','15')"
      ],
      "execution_count": null,
      "outputs": [
        {
          "output_type": "stream",
          "text": [
            " * sqlite:///restaurantDatabase.db\n",
            "1 rows affected.\n"
          ],
          "name": "stdout"
        },
        {
          "output_type": "execute_result",
          "data": {
            "text/plain": [
              "[]"
            ]
          },
          "metadata": {
            "tags": []
          },
          "execution_count": 13
        }
      ]
    },
    {
      "cell_type": "code",
      "metadata": {
        "colab": {
          "base_uri": "https://localhost:8080/"
        },
        "id": "EUiM3x12QRNF",
        "outputId": "5370abf2-47d1-47e2-c8fc-b4eaa7487017"
      },
      "source": [
        "%%sql\n",
        "INSERT INTO Entrees VALUES('4321', 'Italian', 10.99, 600)"
      ],
      "execution_count": 28,
      "outputs": [
        {
          "output_type": "stream",
          "text": [
            " * sqlite:///restaurantDatabase.db\n",
            "1 rows affected.\n"
          ],
          "name": "stdout"
        },
        {
          "output_type": "execute_result",
          "data": {
            "text/plain": [
              "[]"
            ]
          },
          "metadata": {
            "tags": []
          },
          "execution_count": 28
        }
      ]
    },
    {
      "cell_type": "code",
      "metadata": {
        "colab": {
          "base_uri": "https://localhost:8080/",
          "height": 96
        },
        "id": "8-C5_IxK8RqU",
        "outputId": "db77693f-d55e-44e1-fbea-61a575a4c413"
      },
      "source": [
        "%%sql\n",
        "SELECT AVG(Price) FROM Entrees WHERE Price < 20.00"
      ],
      "execution_count": 31,
      "outputs": [
        {
          "output_type": "stream",
          "text": [
            " * sqlite:///restaurantDatabase.db\n",
            "Done.\n"
          ],
          "name": "stdout"
        },
        {
          "output_type": "execute_result",
          "data": {
            "text/html": [
              "<table>\n",
              "    <tr>\n",
              "        <th>AVG(Price)</th>\n",
              "    </tr>\n",
              "    <tr>\n",
              "        <td>12.99</td>\n",
              "    </tr>\n",
              "</table>"
            ],
            "text/plain": [
              "[(12.99,)]"
            ]
          },
          "metadata": {
            "tags": []
          },
          "execution_count": 31
        }
      ]
    },
    {
      "cell_type": "code",
      "metadata": {
        "colab": {
          "base_uri": "https://localhost:8080/"
        },
        "id": "-y7NjyR9L9BI",
        "outputId": "2691786a-9dc3-4ee1-ebdc-4af102cb0d44"
      },
      "source": [
        "%%sql\n",
        "INSERT INTO Customers VALUES('5642', 'Jane', 'Doe', 'Credit', '1234', '3874', '285')"
      ],
      "execution_count": 16,
      "outputs": [
        {
          "output_type": "stream",
          "text": [
            " * sqlite:///restaurantDatabase.db\n",
            "1 rows affected.\n"
          ],
          "name": "stdout"
        },
        {
          "output_type": "execute_result",
          "data": {
            "text/plain": [
              "[]"
            ]
          },
          "metadata": {
            "tags": []
          },
          "execution_count": 16
        }
      ]
    },
    {
      "cell_type": "code",
      "metadata": {
        "colab": {
          "base_uri": "https://localhost:8080/",
          "height": 118
        },
        "id": "Oj5Oz9fZMV65",
        "outputId": "2d6b9b44-33ab-4430-883a-bfe554f709e2"
      },
      "source": [
        "%%sql\n",
        "SELECT DISTINCT(FirstName) FROM Customers WHERE FirstName LIKE \"%J%\""
      ],
      "execution_count": 23,
      "outputs": [
        {
          "output_type": "stream",
          "text": [
            " * sqlite:///restaurantDatabase.db\n",
            "Done.\n"
          ],
          "name": "stdout"
        },
        {
          "output_type": "execute_result",
          "data": {
            "text/html": [
              "<table>\n",
              "    <tr>\n",
              "        <th>FirstName</th>\n",
              "    </tr>\n",
              "    <tr>\n",
              "        <td>John</td>\n",
              "    </tr>\n",
              "    <tr>\n",
              "        <td>Jane</td>\n",
              "    </tr>\n",
              "</table>"
            ],
            "text/plain": [
              "[('John',), ('Jane',)]"
            ]
          },
          "metadata": {
            "tags": []
          },
          "execution_count": 23
        }
      ]
    },
    {
      "cell_type": "code",
      "metadata": {
        "colab": {
          "base_uri": "https://localhost:8080/"
        },
        "id": "Bpe9hPYgNFty",
        "outputId": "0be64534-7a8d-4d65-a92d-9d432d5d2aec"
      },
      "source": [
        "%%sql\n",
        "INSERT INTO Waiters VALUES('12', 12.50, 8, 'Carl', 'Wheezer', '16')"
      ],
      "execution_count": 24,
      "outputs": [
        {
          "output_type": "stream",
          "text": [
            " * sqlite:///restaurantDatabase.db\n",
            "1 rows affected.\n"
          ],
          "name": "stdout"
        },
        {
          "output_type": "execute_result",
          "data": {
            "text/plain": [
              "[]"
            ]
          },
          "metadata": {
            "tags": []
          },
          "execution_count": 24
        }
      ]
    },
    {
      "cell_type": "code",
      "metadata": {
        "colab": {
          "base_uri": "https://localhost:8080/",
          "height": 96
        },
        "id": "kBuz-hxSNcMk",
        "outputId": "1819de43-866b-4596-960b-0d85ec8a36c4"
      },
      "source": [
        "%%sql\n",
        "SELECT SUM(Hours) FROM Waiters WHERE Hours > 5"
      ],
      "execution_count": 26,
      "outputs": [
        {
          "output_type": "stream",
          "text": [
            " * sqlite:///restaurantDatabase.db\n",
            "Done.\n"
          ],
          "name": "stdout"
        },
        {
          "output_type": "execute_result",
          "data": {
            "text/html": [
              "<table>\n",
              "    <tr>\n",
              "        <th>SUM(Hours)</th>\n",
              "    </tr>\n",
              "    <tr>\n",
              "        <td>15.0</td>\n",
              "    </tr>\n",
              "</table>"
            ],
            "text/plain": [
              "[(15.0,)]"
            ]
          },
          "metadata": {
            "tags": []
          },
          "execution_count": 26
        }
      ]
    },
    {
      "cell_type": "code",
      "metadata": {
        "id": "Z1lpoX5sXBtz"
      },
      "source": [
        ""
      ],
      "execution_count": null,
      "outputs": []
    },
    {
      "cell_type": "markdown",
      "metadata": {
        "id": "X2Yxe57PSoCK"
      },
      "source": [
        "Question 1) SELECT AVG(Price) FROM Entrees WHERE Price < 20.00\n",
        "\n",
        "We wanted to ask what the average price people would pay under 20 dollars would be. We did this because we wanted to see what the average person would pay coming to our restaurant that does not want to spend a lot of money. Yes, the results matched up to our expectations because the average is in the range of 12.00 dollars to 15.00 dollars, which is what we anticipated.\n"
      ]
    },
    {
      "cell_type": "markdown",
      "metadata": {
        "id": "f678OnfIWe-o"
      },
      "source": [
        "Question 2) SELECT DISTINCT(FirstName) FROM Customers WHERE FirstName LIKE \"%J%\"\n",
        "\n",
        "For the second query, we wanted to see how many customers came into our restaurant with different names that had the letter J in it. We did this because we wanted to see the differences and similarities in names between our customers to determine who we are attracting to our restaurant. Yes, the results matched up to our expectations because the result had all names with the letter J in it and were all different from each other, which we anticipated.\n"
      ]
    },
    {
      "cell_type": "markdown",
      "metadata": {
        "id": "PDsG8fybWiZQ"
      },
      "source": [
        "Question 3) SELECT SUM(Hours) FROM Waiters WHERE Hours > 5\n",
        "\n",
        "Finally for the third query, we wanted to determine the total amount of hours the employees worked that work on a regular basis throughout the week. We assumed most employees work more than 5 hours if they are working regularly so that is why we wanted to only calculate the sum of hours for the employees that worked more than 5 hours per week. Yes, the results matched up to our expectations because the sum of the hours worked was in the range of 14-20 hours which we assumed would be the case for the 2 active employees in our database."
      ]
    }
  ]
}